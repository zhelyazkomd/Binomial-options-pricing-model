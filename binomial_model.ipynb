{
 "cells": [
  {
   "cell_type": "markdown",
   "id": "eae7a3e8",
   "metadata": {},
   "source": [
    "##### *Libraries used in this notebook*"
   ]
  },
  {
   "cell_type": "code",
   "execution_count": 10,
   "id": "de5a8abb",
   "metadata": {},
   "outputs": [],
   "source": [
    "%matplotlib inline\n",
    "import matplotlib.pyplot as plt\n",
    "import numpy as np\n",
    "import math as m\n",
    "import scipy.stats as stats"
   ]
  },
  {
   "cell_type": "markdown",
   "id": "fefaa3c3",
   "metadata": {},
   "source": [
    "# Binomial options pricing model"
   ]
  },
  {
   "cell_type": "markdown",
   "id": "53508e5d",
   "metadata": {},
   "source": [
    "### Contest\n",
    "\n",
    "[1. Introduction](#chapter1)\n",
    "\n",
    "   * [Introduce the concept of option pricing.](#c1point1)\n",
    "   * [What is the need for models like the binomial option pricing model.](#c1point2)\n",
    "   * [Overview of the Binomial Option Pricing Model.](#c1point3)\n",
    "    \n",
    "[2. Understanding Options](#chapter2)\n",
    "\n",
    "   * [What are the options and their main features.](#c2point1)\n",
    "   * [Difference between call and put options.](#c2point2)\n",
    "   * [Important terms such as strike price, expiration date, and underlying asset.](#c2point3)\n",
    "    \n",
    "[3. The Binomial Model Approach](#chapter3)\n",
    "\n",
    "   * [Basic principles behind the binomial model approach.](#c3point1)\n",
    "   * [How the model assumes that the underlying asset price can move up or down over discrete time intervals.](#c3point2)\n",
    "\n",
    "[4. Model Assumptions](#chapter4)\n",
    "\n",
    "   * [Assumptions of the Binomial Option Pricing Model.](#c4point1)\n",
    "   * [What is meaning of no arbitrage, risk-neutral probabilities and absence of transaction cost and taxes.](#c4point2)\n",
    "   * [How these assumptions impact the accuracy and applicability of the model. ](#c4point3)\n",
    "    \n",
    "[5. Calculating Option Prices](#chapter5)\n",
    "   * [Steps involved in calculating option prices using the binomial model.](#c5point1)\n",
    "   * [Risk-neutral probabilities and their role in pricing options.](#c5point2)\n",
    "   * [Calculation of option prices at each node of the binomial tree.](#c5point3)\n",
    "\n",
    "[6. Hedging Strategies](#chapter6)\n",
    "   * [Concept of delta, gamma, and theta as measures of risk and sensitivity in options.](#c6point1)\n",
    "   * [How the binomial model can be used to determine hedging strategies.](#c6point2)\n",
    "   * [Calculation and interpretation of hedge ratios and portfolio adjustments.](#c6point3)\n",
    "\n",
    "[7. Extensions and Variations](#chapter7)\n",
    "   * [Extensions and variations of the binomial model.](#c7point1)\n",
    "   * [Adjustments for dividends, interest rates, and volatility.](#c7point2)\n",
    "   * [Concept of multi-period binomial models.](#c7point3)\n",
    "\n",
    "\n",
    "[8. Practical Applications.](#chapter8)\n",
    "\n",
    "9. Comparison with Other Models.\n",
    "\n",
    "10. Conclusion.\n"
   ]
  },
  {
   "cell_type": "markdown",
   "id": "4903697e",
   "metadata": {},
   "source": [
    "### 1. Introduction <a id=chapter1><a/>"
   ]
  },
  {
   "cell_type": "markdown",
   "id": "79724577",
   "metadata": {},
   "source": [
    "#### Introduce the concept of option pricing. <a id=c1point1><a/>"
   ]
  },
  {
   "cell_type": "markdown",
   "id": "50eec106",
   "metadata": {},
   "source": [
    "Option pricing theory estimates a value of an options contract by assigning a price, known as a premium, based on the calculated probability that the contract will finish *in the money (ITM)* at expiration. Essentially, option pricing theory provides an evaluation of an option's fair value, which traders incorporate into their strategies.\n",
    "\n",
    "Models used to price options account for variables such as current market price, strike price, volatility, interest rate, and time to expiration to theoretically value an option. Some commonly used models to value options are Black-Scholes, binomial option pricing, and Monte-Carlo simulation.\n",
    "\n",
    "The longer that an investor has to exercise the option, the greater the likelihood that it will be ITM and profitable at expiration. This means, all else equal, longer-dated options are more valuable. Similarly, the more volatile the underlying asset, the greater the odds that it will expire ITM. Higher interest rates, too, should translate into higher option prices."
   ]
  },
  {
   "cell_type": "markdown",
   "id": "8367494a",
   "metadata": {},
   "source": [
    "#### What is the need for models like the binomial option pricing model. <a id=c1point2><a/>"
   ]
  },
  {
   "cell_type": "markdown",
   "id": "4537b1bd",
   "metadata": {},
   "source": [
    "There are several main reasons for the need for models that calculate the option pricing model:\n",
    "\n",
    "**Valuation of options:** Options are financial derivatives whose value depends on the price movements of an underlying asset. Option pricing models enable market participants to determine the fair value of options, allowing them to make informed investment decisions. These models take into account factors such as the current price of the underlying asset, the strike price, time to expiration, volatility, and interest rates to calculate the option's value.\n",
    "\n",
    "These are the basic models for the option pricing model:\n",
    "\n",
    "   <img src=\"img/option_pricing_models.jpg\" width=\"400\"/>\n",
    "\n",
    "\n",
    "**Risk management:** Option pricing models play a crucial role in managing risk for individuals and financial institutions. By accurately valuing options, traders and investors can assess the potential risks associated with their portfolios. This information helps them hedge their positions or adjust their strategies accordingly, minimizing potential losses and maximizing returns.\n",
    "\n",
    "These are the model of risk management:\n",
    "\n",
    "   <img src=\"img/risk_management.jpg\" width=\"300\"/>\n",
    "\n",
    "\n",
    "\n",
    "**Market efficiency:** Option pricing models contribute to the efficiency of financial markets. When options are accurately priced, it reduces the likelihood of mispriced assets and arbitrage opportunities. This encourages fair pricing and promotes a more transparent and efficient marketplace.\n",
    "\n",
    "**Derivative pricing and trading:** Options are a type of derivative, which means their value is derived from an underlying asset. Option pricing models provide a foundation for pricing and trading other derivative instruments, such as futures, swaps, and forward contracts. These models help market participants assess the value of these instruments and make informed trading decisions.\n",
    "\n",
    "**Academic research and financial analysis:** Option pricing models serve as a basis for academic research in finance and play a significant role in financial analysis. These models provide insights into market behavior, option pricing anomalies, and the relationship between various market factors. They form the basis for developing and testing trading strategies and evaluating the impact of different variables on option prices."
   ]
  },
  {
   "cell_type": "markdown",
   "id": "cae0a7d9",
   "metadata": {},
   "source": [
    "#### Overview of the Binomial Option Pricing Model. <a id=c1point3><a/>"
   ]
  },
  {
   "cell_type": "markdown",
   "id": "2566817e",
   "metadata": {},
   "source": [
    "##### What Is Binomial Option Pricing Model?\n",
    "The binomial option pricing model is employed to calculate the value of an option using an iterative binomial framework. It is based on the presumption that the underlying asset’s value follows a path of evolution. Hence it either increases or decreases by a fixed percentage during each period.\n",
    "\n",
    "The binomial pricing model was first proposed by mathematicians Cox, Ross, and Rubinstein in 1979. The model provides a simple way to portray stock price movements and the interest rate term structure. The binomial model displays the underlying stock price movements using a discrete-time binomial lattice (tree) framework. One can identify it just by the probability of an upward rise and the size of the moves in the upward and downward phases of the options.\n",
    "\n",
    "An option is a significant financial derivative that provides the holder with the right to trade a defined quantity of the underlying asset at an agreed amount on the maturity date for a ***European option*** or at any time on or before the maturity date for an ***American option***.\n",
    "\n",
    "<p style=text-align:center><b>Binomial Tree Scheme</b></p>\n",
    "<img src=\"img/BOPM_scheme.jpg\" width=\"450\"/>\n",
    "\n",
    "The binomial lattice option pricing model is a simple approach to calculating possible option prices. The model works on the key assumption that only two possible results exist for a particular stock. The two possible outcomes are a high and a low price. So the possibilities are also an assumption that the prices could go up or down. Therefore, investors need to assume the occurrence of the two stock prices at the end of the provided period. As always, one cannot predict this price with certainty, and it carries risks like all investments.\n",
    "\n",
    "It also works with the assumption of no arbitrage. i.e., there is no buying while selling at a higher price. No-arbitrage guarantees that the asset's value doesn't change. According to the no-arbitrage assumption, all risk-free investments generate a risk-free rate of return, and no investment possibilities demand zero money and generate positive returns.\n",
    "\n",
    "The practices ensure that the prices of financial assets, such as options, are fixed to a minimal tolerance from their theoretical values. One-period time model or one-period binomial option pricing model and multi-period binomial option pricing model or two-step binomial option pricing model are the types of binomial models used to determine option prices, and assumptions apply to them too."
   ]
  },
  {
   "cell_type": "markdown",
   "id": "24a2ec54",
   "metadata": {},
   "source": [
    "### 2.\tUnderstanding Options <a id=chapter2><a/>"
   ]
  },
  {
   "cell_type": "markdown",
   "id": "357dffd7",
   "metadata": {},
   "source": [
    "#### What are the options and their main features? <a id=c2point1><a/>"
   ]
  },
  {
   "cell_type": "markdown",
   "id": "91f5e469",
   "metadata": {},
   "source": [
    "An options contract is an agreement between two parties to facilitate a potential transaction on an underlying security at a preset price, referred to as the strike price, prior to or on the expiration date. Options are financial instruments that are based on the value of underlying securities such as stocks. An options contract offers the buyer the opportunity to buy or sell—depending on the type of contract they hold—the chosen underlying asset at a price set out in the contract either within a certain timeframe or at the expiration date.\n",
    "\n",
    "There are two major types of options: calls and puts.\n",
    "\n",
    "   * Call is an option contract that gives you the right, but not the obligation, to buy the underlying asset at a predetermined price before or at expiration day.\n",
    "   * Put is an option contract that gives you the right, but not the obligation, to sell the underlying asset at a predetermined price before or at expiration day.\n",
    "    \n",
    "<img src=\"img/type_of_option.jpg\" width=\"500\" />\n",
    "\n",
    "Options may also be classified according to their exercise time:\n",
    "\n",
    "   * European style options may be exercised only at the expiration date.\n",
    "   * American style options can be exercised anytime between purchase and expiration date.\n",
    "   \n",
    "\n",
    "Few **KEY TAKEAWAYS** about Option:\n",
    "  > * An options contract is an agreement between two parties to facilitate a potential transaction involving an asset at a preset price and date.\n",
    "  > * There are two types of options contract: puts and calls.\n",
    "  > * Buying an option offers the right, but not the obligation, to purchase or sell the underlying asset."
   ]
  },
  {
   "cell_type": "markdown",
   "id": "33fae0a9",
   "metadata": {},
   "source": [
    "#### Difference between call and put options. <a id=c2point2><a/>"
   ]
  },
  {
   "cell_type": "markdown",
   "id": "7b6de07d",
   "metadata": {},
   "source": [
    "The difference between a call option and a put option is simple. An investor who buys a call seeks to make a profit when the price of a stock increases. The investor hopes the security price will rise so they can purchase the stock at a discounted rate. The writer, on the other hand, hopes the stock price will drop or at least stay the same so they won’t have to exercise the option.\n",
    "\n",
    "With a put option, the investor profits when the stock price falls. In this case, the put increases as the stock decreases in value. So, while the investor hopes the stock price dips, the writer hopes it increases or stays the same, so they don’t have to exercise the trade.\n",
    "\n",
    "When buying a call option, the buyer must pay a premium to the seller or writer. But the investor doesn’t have to pay the market margin money before the purchase. However, when selling a put option, the seller must deposit margin money with the market. This then provides the advantage to keep the premium sum on the put option.\n",
    "\n",
    "In regards to profitability, call options have unlimited gain potential because the price of a stock cannot be capped. Conversely, put options are limited in their potential gains because the price of a stock cannot drop below zero.\n",
    "\n",
    "\n",
    "<img src=\"img/Call_and_Put.jpg\" width=\"500\" />\n",
    "    "
   ]
  },
  {
   "cell_type": "markdown",
   "id": "b9143af6",
   "metadata": {},
   "source": [
    "#### Important terms such as strike price, expiration date, and underlying asset. <a id=c2point3><a/>"
   ]
  },
  {
   "cell_type": "markdown",
   "id": "62be4edf",
   "metadata": {},
   "source": [
    "Let's first look at what the strike price is.\n",
    "\n",
    "#### Strike price\n",
    "Exercise price or Strike Price refers to the price at which the underlying stock is purchased or sold by the persons trading in the options of calls & puts available in the derivative trading. The exercise price, also known as the strike price, is a term used in the derivative market. The exercise price is always fixed, unlike the market price, and is defined differently for all available options.\n",
    "\n",
    "\n",
    ">**KEY TAKEAWAYS**\n",
    "> * The strike price on an options contract is the price at which the underlying security can be either bought or sold once exercised.\n",
    "> * Also known as the exercise price, the strike price is a key feature of an options contract.\n",
    "> * In-the-money (ITM) options have intrinsic value since their strike prices are lower than the market price for a call, or higher than the market price for a put.\n",
    "> * At-the-money (ATM) options have a strike price that is equal to the current market price of the underlying.\n",
    "\n",
    "#### Expiration date\n",
    "\n",
    "An expiration date in derivatives is the last day that derivative contracts, such as options or futures, are valid. On or before this day, investors will have already decided what to do with their expiring position.\n",
    "\n",
    "Before an option expires, its owners can choose to exercise the option, close the position to realize their profit or loss, or let the contract expire worthless.\n",
    "\n",
    ">**KEY TAKEAWAYS**\n",
    "> * Expiration date for derivatives is the final date on which the derivative is valid. After that time, the contract has expired.\n",
    "> * Depending on the type of derivative, the expiration date can result in different outcomes.\n",
    "> * Option owners can choose to exercise the option (and realize profits or losses) or let it expire worthless.\n",
    "> * Futures contract owners can choose to roll over the contract to a future date or close their position and take delivery of the asset or commodity.\n",
    "\n",
    "#### Underlying asset\n",
    "\n",
    "The underlying asset is defined as the asset on which the financial instruments, such as derivatives, are based, and the underlying asset’s value is indirectly or directly related to the contracts of the derivatives. They are always traded on the cash markets, whereas the derivatives derived from them are traded on the derivative segment or the future markets."
   ]
  },
  {
   "cell_type": "markdown",
   "id": "5efc24fa",
   "metadata": {},
   "source": [
    " ### 3.\tThe Binomial Model Approach <a id=chapter3><a/>"
   ]
  },
  {
   "cell_type": "markdown",
   "id": "d6ee9345",
   "metadata": {},
   "source": [
    " #### Basic principles behind the binomial model approach. <a id=c3point1><a/>"
   ]
  },
  {
   "cell_type": "markdown",
   "id": "1ae5be7f",
   "metadata": {},
   "source": [
    "The binomial model approach is a mathematical model used to value options and other financial derivatives. It is based on several basic principles:\n",
    "\n",
    "**Discrete Time:** The binomial model assumes that time is divided into a series of discrete intervals, typically equal in length. This allows for a step-by-step analysis of the underlying asset's price movement.\n",
    "\n",
    "**Two Possible Outcomes:** At each time step, the underlying asset's price can only move in one of two directions: up or down. These movements are usually assumed to be proportional, meaning that the up movement is a multiple of the down movement.\n",
    "\n",
    "**Risk-Neutral Probability:** The model assumes a risk-neutral probability, which is the probability of an up or down movement that would make the expected return on the underlying asset equal to the risk-free rate. This risk-neutral probability is used to calculate the option's value at each time step.\n",
    "\n",
    "**Option Valuation:** The binomial model values options by constructing a binomial tree that represents all possible price paths of the underlying asset over time. Starting from the final time step (expiration date), the option value is calculated at each node of the tree by discounting the expected future payoffs.\n",
    "\n",
    "**Replication Strategy:** The binomial model assumes that it is possible to replicate the option's payoffs by trading in the underlying asset and the risk-free asset (such as a bond). By adjusting the proportions of these two assets, a portfolio can be constructed to replicate the option's cash flows. The value of the option is then determined by the initial cost of this replicating portfolio.\n",
    "\n",
    "By using these principles, the binomial model provides a framework for valuing options and understanding how their prices change over time. It is a relatively simple model that can handle various types of options, including European and American-style options, as well as options on stocks, currencies, and other assets."
   ]
  },
  {
   "cell_type": "markdown",
   "id": "12d98f9b",
   "metadata": {},
   "source": [
    "#### How the model assumes that the underlying asset price can move up or down over discrete time intervals. <a id=c3point2><a/>\n"
   ]
  },
  {
   "cell_type": "markdown",
   "id": "c0d7f57e",
   "metadata": {},
   "source": [
    "The binomial model assumes that the underlying asset price can move up or down over discrete time intervals based on a few key assumptions:\n",
    "\n",
    "Time Division: The model divides time into a series of discrete intervals. Each interval represents a fixed period, such as a day, a month, or a year. These intervals allow for a step-by-step analysis of the underlying asset's price movement.\n",
    "\n",
    "Proportional Movements: At each time step, the underlying asset's price is assumed to move in one of two directions: up or down. The model assumes that these price movements are proportional to each other. Typically, the up movement is denoted by a factor (often denoted as \"u\") and the down movement by another factor (often denoted as \"d\"). The magnitude of these factors determines the size of the price movements.\n",
    "\n",
    "Repeated Application: The model applies the proportional movements repeatedly over each time interval. Starting from the initial price of the underlying asset, the price can move up by multiplying it by the factor \"u\" or move down by multiplying it by the factor \"d\" at each time step.\n",
    "\n",
    "For example, if the initial price of the underlying asset is denoted as S0, after one time step, the possible prices would be $S_0u$ (up movement) or $S_0d$ (down movement). After the second time step, the prices would be $S_0u^2$ (two consecutive up movements), S0ud (up movement followed by a down movement), or $S_0d^2$ (two consecutive down movements). This process continues for the desired number of time steps.\n",
    "\n",
    "By assuming these discrete up and down movements, the binomial model simplifies the price movement of the underlying asset into a binary tree structure, where each node represents a possible price at a specific time step. This allows for a systematic evaluation of the option's value at each node of the tree, leading to the overall valuation of the option.\n"
   ]
  },
  {
   "cell_type": "markdown",
   "id": "54a14fc1",
   "metadata": {},
   "source": [
    "### 4.Model Assumptions. <a id=chapter4><a/>\n"
   ]
  },
  {
   "cell_type": "markdown",
   "id": "4eea00cc",
   "metadata": {},
   "source": [
    "#### Assumptions of the Binomial Option Pricing Model. <a id=c4point1><a/>\n"
   ]
  },
  {
   "cell_type": "markdown",
   "id": "e31287f9",
   "metadata": {},
   "source": [
    "The key assumption for the binomial model is that there are only two possible results for the stock. The two possible outcomes are a higher or a lower price. The price will go up, or it will go down. The probabilities are also an assumption. You will need to assume the likelihood of the two stock prices at the end of the period. \n",
    "\n",
    "To determine the outcomes, we need to know the current price, strike price, and expiration date. We must also assume a risk-free interest rate that will stay constant. When you have these values, you can calculate the option value for each period. With this information, you can determine the value of an option for a single period. You could also determine the value of an option over multiple periods."
   ]
  },
  {
   "cell_type": "markdown",
   "id": "ece1c9d2",
   "metadata": {},
   "source": [
    "#### What is meaning of no arbitrage, risk-neutral probabilities and absence of transaction cost and taxes. <a id=c4point2><a/>"
   ]
  },
  {
   "cell_type": "markdown",
   "id": "4018a7be",
   "metadata": {},
   "source": [
    "First of all we need to understand what is no-arbitrage principle and why do we need to use it to price derivatives.The concept of \"no arbitrage\" is a fundamental principle in financial markets. It states that it should not be possible to make risk-free profits without any investment or net cash flow. In the context of option pricing, the assumption of no arbitrage means that the model assumes the absence of opportunities to generate riskless profits by trading the underlying asset and the option. The absence of arbitrage ensures that the model's pricing is fair and consistent with market conditions. Risk-neutral probabilities are a key concept in option pricing models, including the binomial model.\n",
    "\n",
    "Risk-neutral probabilities are hypothetical probabilities that reflect an assumption that all investors are indifferent to risk and value all future cash flows at the risk-free rate of return. In the binomial model, these probabilities are used to calculate the expected option values at each node of the binomial tree. By assuming risk-neutral probabilities, the model simplifies the valuation process and ensures that the option prices are consistent with the market prices.\n",
    "\n",
    "The assumption of no transaction costs and taxes in option pricing models, such as the binomial model, means that the model disregards the expenses or fees associated with trading the underlying asset or the option itself. It assumes that investors can buy or sell the assets without any additional costs or taxes impacting their decisions. This assumption simplifies the calculations and allows for frictionless trading, enabling the model to focus solely on the intrinsic value of the option itself. In practice, transaction costs and taxes can have an impact on option pricing, and these factors need to be considered in more advanced models or real-world scenarios"
   ]
  },
  {
   "cell_type": "markdown",
   "id": "171ee5c7",
   "metadata": {},
   "source": [
    "#### How these assumptions impact the accuracy and applicability of the model. <a id=c4point2><a/>"
   ]
  },
  {
   "cell_type": "markdown",
   "id": "6313507e",
   "metadata": {},
   "source": [
    "In summary, the assumptions of the Binomial Option Pricing Model impact both the accuracy and applicability of the model. While these assumptions simplify the calculations and provide a tractable framework, they may not fully capture the complexities of real-world markets. The assumptions of discrete time, two possible price movements, constant volatility, no arbitrage, risk-neutral probabilities, and absence of transaction costs and taxes help simplify the model but can limit its accuracy and applicability. Understanding these assumptions is crucial to recognizing the limitations of the model and considering more advanced approaches when needed."
   ]
  },
  {
   "cell_type": "markdown",
   "id": "0cb28a98",
   "metadata": {},
   "source": [
    "### 5.Model Assumptions. <a id=chapter5><a/>"
   ]
  },
  {
   "cell_type": "markdown",
   "id": "19191968",
   "metadata": {},
   "source": [
    "#### Steps involved in calculating option prices using the binomial model. <a id=c5point1><a/>"
   ]
  },
  {
   "cell_type": "markdown",
   "id": "fe1999c6",
   "metadata": {},
   "source": [
    "**Define the Parameters:**\n",
    ">* Current price of the underlying asset: **S0**\n",
    ">* Strike price of the option: **K**\n",
    ">* Time to expiration: **T**\n",
    ">* Risk-free interest rate: **r**\n",
    ">* Number of time steps: **n**\n",
    ">* Up factor: **u**\n",
    ">* Down factor: **d**\n",
    "\n",
    "**Construct the Binomial Tree:**\n",
    "\n",
    "Create a binomial tree to represent the possible price movements of the underlying asset over the specified time steps.\n",
    "Start with the initial price of the underlying asset $S_0$ and calculate the prices at each node of the tree by multiplying the previous node's price by the up factor $u$ for upward movements or by the down factor $d$ for downward movements.\n",
    "\n",
    "**Calculate Option Payoffs at Expiration:**\n",
    "\n",
    "Determine the option payoffs at expiration for each node of the binomial tree.\n",
    "For a call option, the payoff is the difference between the underlying asset's price and the strike price if it is positive, otherwise it is zero.\n",
    "For a put option, the payoff is the difference between the strike price and the underlying asset's price if it is positive, otherwise it is zero.\n",
    "\n",
    "**Backward Induction:**\n",
    "\n",
    "Starting from the last time step of the binomial tree, iterate backward through each node and calculate the option values using the risk-neutral probabilities.\n",
    "At each node, calculate the expected value of the option by discounting the option values from the subsequent time step and applying the risk-neutral probabilities.\n",
    "The option value at each node is the discounted expected value of the option's payoffs in the subsequent time step.\n",
    "\n",
    "**Calculate Option Price:**\n",
    "\n",
    "Once the option values are calculated for all nodes of the binomial tree, determine the option price at the initial node $S_0$ by considering the node corresponding to the initial price of the underlying asset.\n",
    "This node represents the option's current value."
   ]
  },
  {
   "cell_type": "markdown",
   "id": "5fbca5fe",
   "metadata": {},
   "source": [
    "#### Risk-neutral probabilities and their role in pricing options. <a id=c5point2><a/>"
   ]
  },
  {
   "cell_type": "markdown",
   "id": "356bc2ac",
   "metadata": {},
   "source": [
    "Risk-neutral probabilities are hypothetical probabilities used in option pricing models to simplify calculations and ensure consistent valuation with market prices. They assume investors are risk-neutral and value all future cash flows at the risk-free rate. Risk-neutral probabilities allow for the creation of a risk-neutral world, where options are priced in a way that eliminates riskless arbitrage opportunities. By incorporating risk-neutral probabilities, option pricing models determine option prices that align with market prices, assuming market efficiency. These probabilities are different from actual probabilities observed in the market, as they adjust for risk aversion. The use of risk-neutral probabilities ensures consistency in option pricing and market efficiency."
   ]
  },
  {
   "cell_type": "markdown",
   "id": "733f7bfa",
   "metadata": {},
   "source": [
    "#### Calculation of option prices at each node of the binomial tree. <a id=c5point3><a/>"
   ]
  },
  {
   "cell_type": "markdown",
   "id": "26e3590c",
   "metadata": {},
   "source": [
    "**Construct the Binomial Tree:**\n",
    "The tree of prices is produced by working forward from valuation date to expiration.\n",
    "At each step, it is assumed that the underlying instrument will move up or down by a specific factor *u* or *d* per step of the tree. So, if ***S*** is the current price, then in the next period the price will either be:\n",
    "$$S_u=S*u$$\n",
    "$$S_d=S*d$$\n",
    "\n",
    "The up and down factors, u and d, are calculated using the underlying volatility, $\\sigma$, and the time duration of a step, ***t*** measured in years.\n",
    "\n",
    "$$u=e^{\\sigma \\sqrt \\Delta t}$$\n",
    "\n",
    "$$d=e^{-\\sigma \\sqrt \\Delta t}= \\frac{1}{u}$$\n",
    "\n",
    "Above is the original Cox, Ross, & Rubinstein (CRR) method; there are various other techniques for generating the lattice, such as \"the equal probabilities\" tree.The CRR method ensures that the tree is recombinant, i.e. if the underlying asset moves up and then down (u,d), the price will be the same as if it had moved down and then up (d,u)—here the two paths merge or recombine. This property reduces the number of tree nodes, and thus accelerates the computation of the option price.\n",
    "This property also allows the value of the underlying asset at each node to be calculated directly via formula, and does not require that the tree be built first. The node-value will be:\n",
    "$$S_n=S_0 * u^{N_u - N_d}$$\n",
    "\n",
    "Where $N_{u}$ is the number of up ticks and $N_{d}$ is the number of down ticks.\n",
    "\n",
    "**Find option value at each final node:**\n",
    "At each final node of the tree—i.e. at expiration of the option—the option value is simply its intrinsic, or exercise, value:\n",
    "\n",
    "**Call options:** $$MAX[(S_n - K), 0]$$\n",
    "\n",
    "**Pull options:** $$MAX[(K - S_n), 0]$$\n",
    "\n",
    "Where $K$ is the strike price and $S_{n}$ is the spot price of the underlying asset at the $n^{th}$ period.\n",
    "\n",
    "Once the above step is complete, the option value is then found for each node, starting at the penultimate time step, and working back to the first node of the tree (the valuation date) where the calculated result is the value of the option.\n",
    "\n",
    "In overview: the \"binomial value\" is found at each node, using the risk neutrality assumption. If exercise is permitted at the node, then the model takes the greater of binomial and exercise value at the node.\n",
    "\n",
    "The steps are as follows:\n",
    "\n",
    "Under the risk neutrality assumption, today's fair price of a derivative is equal to the expected value of its future payoff discounted by the risk free rate. Therefore, expected value is calculated using the option values from the later two nodes (Option up and Option down) weighted by their respective probabilities—\"probability\" **p** of an up move in the underlying, and \"probability\" **(1−p)** of a down move. The expected value is then discounted at **r**, the risk free rate corresponding to the life of the option.\n",
    "\n",
    "The following formula to compute the expectation value is applied at each node:\n",
    "$$C_{t-\\Delta t,i}=e^{-r\\Delta t}(pC_{t,i} +(1-p)C_{t,i+1})$$\n",
    "\n",
    "where $C_{t,i}$ is the option's value for the $i^{th}$ node at time $t$,\n",
    "\n",
    "$$p=\\frac{e^{(r-q)\\Delta t}-d}{u-d}$$\n",
    "\n",
    "is chosen such thath the related binomial distribution simulates the geometric Brownian motion of the underlying stock with parameters $r$ and $\\sigma$, $q$ is the dividend yild of the underlying corresponding to the life of the option. It follows that in a risk-neutral world futures price should have and expected growth rate of zeros and therefore we can cosider $q=r$ for futures.\n",
    "Note that for $p$ to be in the interval $(0,1)$ the following condition on $\\Delta t$ has to be statisfied \n",
    "$$\\Delta t < \\frac{\\sigma^2}{(r-q)^2}$$\n",
    "> * Note that the alternative valuation approach, arbitrage-free pricing, yields identical results; see “delta-hedging”.\n",
    "\n",
    "This result is the \"Binomial Value\". It represents the fair price of the derivative at a particular point in time (i.e. at each node), given the evolution in the price of the underlying to that point. It is the value of the option if it were to be held—as opposed to exercised at that point.\n",
    "Depending on the style of the option, evaluate the possibility of early exercise at each node: if \n",
    "(1) the option can be exercised, and \n",
    "(2) the exercise value exceeds the Binomial Value, then \n",
    "(3) the value at the node is the exercise value.\n",
    "> * For a European option, there is no option of early exercise, and the binomial value applies at all nodes.\n",
    "> * For an American option, since the option may either be held or exercised prior to expiry, the value at each node is: Max (Binomial Value, Exercise Value)."
   ]
  },
  {
   "cell_type": "markdown",
   "id": "49d526bd",
   "metadata": {},
   "source": [
    "### 6.Hedging Strategies. <a id=chapter6><a/>"
   ]
  },
  {
   "cell_type": "markdown",
   "id": "1c4eedb7",
   "metadata": {},
   "source": [
    "#### Concept of delta, gamma, and theta as measures of risk and sensitivity in options. <a id=c6point1><a/>"
   ]
  },
  {
   "cell_type": "markdown",
   "id": "f4be0815",
   "metadata": {},
   "source": [
    "**Delta:**\n",
    "\n",
    ">* Delta measures the sensitivity of an option's price to changes in the price of the underlying asset.\n",
    ">* It represents the rate of change of the option price relative to a small change in the underlying asset price.\n",
    ">* Delta ranges from -1 to 1 for options, with call options having a positive delta (0 to 1) and put options having a negative delta (-1 to 0).\n",
    ">* A delta of 0.5, for example, indicates that for every 1 dollar  increase in the underlying asset price, the option price will increase by 0.50 (for a call option) or decrease by  0.50 (for a put option).\n",
    ">* Delta provides insight into the option's directional exposure and can be used to hedge or speculate on price movements.\n",
    "\n",
    "**Gamma:**\n",
    "\n",
    ">* Gamma measures the rate of change of an option's delta in response to changes in the price of the underlying asset.\n",
    ">* It represents the curvature of the delta profile and indicates how quickly the delta itself changes.\n",
    ">* Gamma is highest for at-the-money options and decreases as the option moves deeper into the money or out of the money.\n",
    ">* A high gamma suggests that the option's delta is highly sensitive to changes in the underlying asset price.\n",
    ">* Traders monitor gamma when managing their option positions to assess the potential for larger changes in delta and the need for adjustments.\n",
    "\n",
    "**Theta:**\n",
    "\n",
    ">* Theta measures the rate of change of an option's price over time, also known as time decay.\n",
    ">* It represents the amount the option's price will decrease (or sometimes increase) with the passage of time, assuming all other factors remain constant.\n",
    ">* Theta is typically expressed as a negative value, as options tend to lose value as time progresses.\n",
    ">* Higher theta indicates faster time decay, meaning the option's value erodes more rapidly as it approaches expiration.\n",
    ">* Traders must consider theta when selecting option strategies and managing positions to be aware of the impact of time on option prices.\n",
    "\n",
    "These measures play crucial roles in understanding the risk and sensitivity associated with options. Delta reflects price sensitivity to changes in the underlying asset, gamma captures the change in delta, and theta highlights the impact of time on option value. By considering these measures, traders can make informed decisions about option strategies, risk management, and position adjustments."
   ]
  },
  {
   "cell_type": "markdown",
   "id": "09ac8e7a",
   "metadata": {},
   "source": [
    "#### How the binomial model can be used to determine hedging strategies. <a id=c6point2><a/>"
   ]
  },
  {
   "cell_type": "markdown",
   "id": "0c7c7cbe",
   "metadata": {},
   "source": [
    "The binomial model can be utilized to determine hedging strategies by calculating the hedge ratios or delta values for options. Here's an explanation of how the binomial model can be used for hedging:\n",
    "\n",
    "**Calculation of Delta:**\n",
    "\n",
    "In the binomial model, delta represents the sensitivity of an option's price to changes in the price of the underlying asset.\n",
    "At each node of the binomial tree, the delta value can be calculated by comparing the option prices at that node with the option prices at the subsequent nodes.\n",
    "The delta value represents the ratio of the change in the option price to the change in the underlying asset price.\n",
    "\n",
    "**Hedging Strategy:**\n",
    "\n",
    "Once the delta values are determined, they can be used to construct a hedging strategy to reduce or eliminate the risk associated with the option position.\n",
    "For a long call option position, the delta is positive, indicating a positive correlation with the underlying asset. To hedge against price decreases, a trader can sell (short) a certain number of shares of the underlying asset, determined by the delta value, to create a delta-neutral position.\n",
    "Similarly, for a long put option position, the delta is negative, implying a negative correlation with the underlying asset. To hedge against price increases, a trader can buy a certain number of shares of the underlying asset to maintain a delta-neutral position.\n",
    "By constructing a delta-neutral position, changes in the value of the option can be offset or minimized by changes in the value of the hedging instrument (shares of the underlying asset).\n",
    "\n",
    "**Adjustments:**\n",
    "\n",
    "As the price of the underlying asset changes, the delta value of the option will also change, requiring periodic adjustments to maintain a delta-neutral position.\n",
    "These adjustments involve buying or selling additional shares of the underlying asset to rebalance the position and keep the overall delta close to zero.\n",
    "The frequency of adjustments will depend on the desired level of delta neutrality and the specific hedging strategy employed.\n",
    "\n",
    "**Risk and Limitations:**\n",
    "\n",
    "While delta-neutral hedging using the binomial model can be effective in reducing directional risk, it does not eliminate other risks, such as volatility risk or changes in other option pricing factors.\n",
    "Additionally, the accuracy of the hedging strategy depends on the assumptions and inputs used in the binomial model, including the number of time steps and the estimation of up and down factors.\n",
    "Traders should monitor the effectiveness of the hedge and make adjustments as needed to adapt to changing market conditions.\n",
    "\n",
    "\n",
    "In summary, the binomial model can be used to determine delta values, which serve as the basis for constructing delta-neutral hedging strategies. By maintaining a delta-neutral position, traders can reduce or eliminate the risk associated with the option's directional exposure. However, it is important to monitor and adjust the hedge as needed to account for changes in the underlying asset price and other market factors."
   ]
  },
  {
   "cell_type": "markdown",
   "id": "a0019839",
   "metadata": {},
   "source": [
    "#### Calculation and interpretation of hedge ratios and portfolio adjustments. <a id=c6point3><a/>"
   ]
  },
  {
   "cell_type": "markdown",
   "id": "5e886d58",
   "metadata": {},
   "source": [
    "Hedging is an investment practice that is popularly used as a risk mitigation technique. It involves taking a position in a financial asset or underlying to mitigate the degree of potential risk.\n",
    "\n",
    "\n",
    ">**KEY TAKEAWAYS**\n",
    "> * Hedge ratio is the ratio or comparative value of an open position’s hedge to the overall position.\n",
    "> * It is an important risk management statistic that is used to measure the extent of any potential risk that can be caused by a movement in the hedging instrument.\n",
    "> * As the hedge ratio approaches a value closer to 1, the established position is said to be “fully hedged.” On the other hand, as the hedge ratio approaches a value closer to 0, it is said to be an “unhedged” position.\n",
    "\n",
    "As the hedge ratio approaches a value closer to 1, the established position is said to be “fully hedged.” On the other hand, as the hedge ratio approaches a value closer to 0, it is said to be an “unhedged” position.\n",
    "\n",
    "$$Hedge\\:Ration = \\frac{Hedge\\:Value}{Total\\:Position\\:Value}$$\n",
    "\n",
    "**Strategies**\n",
    "\n",
    "Short and Long hedges. A short hedge is when the position taken to hedge the futures or a commodity is a short position. A short hedge is normally carried out when an investor anticipates a future asset sale or when the price of the futures is expected to decrease.A long hedge is when the position taken to hedge the futures or a commodity is a long position. A long hedge is normally carried out when an investor anticipates a future asset purchase or when the price of the futures is expected to increase.\n",
    "\n",
    "**Types**\n",
    "\n",
    "A dynamic hedge is when an increasing number of hedging contracts are bought and/or sold over the time period of the hedge to influence the hedge ratio and bring it towards the target hedge ratio. A static hedge is when the hedging position or the number of hedging contracts isn’t bought and/or sold, i.e., isn’t changed, over the time period of the hedge regardless of the movement in the price of the hedging instrument.\n",
    "\n",
    "An optimal hedge ratio is an investment risk management ratio that determines the percentage of a hedging instrument, i.e., a hedging asset or liability that an investor should hedge. The ratio is also popularly known as the minimum variance hedge ratio. It is primarily used with the practice of cross-hedging.\n",
    "\n",
    "$$Optimal Hedge Ration = \\rho\\:x\\:\\frac{\\sigma_s}{\\sigma_f}$$\n",
    "\n",
    "$\\rho$ - The correlation coefficient of the changes in the spot and futures price\n",
    "\n",
    "$\\sigma_s$ - Standart deviation of changes in the spot price $s$\n",
    "\n",
    "$\\sigma_f$ - Standart deviation of changes in the futures price"
   ]
  },
  {
   "cell_type": "markdown",
   "id": "feae9e54",
   "metadata": {},
   "source": [
    "### 7.Extensions and Variations. <a id=chapter7><a/>"
   ]
  },
  {
   "cell_type": "markdown",
   "id": "e258b8b0",
   "metadata": {},
   "source": [
    "#### Extensions and variations of the binomial model. <a id=c7point1><a/>"
   ]
  },
  {
   "cell_type": "markdown",
   "id": "f5a7e851",
   "metadata": {},
   "source": [
    "The binomial model is a mathematical framework used to model the price movement of financial instruments over time. It assumes that the price can either go up or down at each time step and calculates the probability of each outcome. While the binomial model is widely used, there have been several extensions and variations developed to address specific limitations or incorporate additional factors. Here are some notable extensions and variations of the binomial model:\n",
    "\n",
    "**Trinomial Model**\n",
    "\n",
    "The trinomial model extends the binomial model by introducing a third possible price movement at each time step, in addition to the up and down movements. This allows for more flexibility in modeling complex scenarios and can provide a closer approximation to the underlying asset's behavior.\n",
    "\n",
    "**Multinomial model** \n",
    "\n",
    "The multinomial model generalizes the binomial model to accommodate more than three possible price movements at each time step. It can be useful when dealing with assets that exhibit a high degree of volatility or have multiple sources of uncertainty.\n",
    "\n",
    "**Time-dependent volatility** \n",
    "\n",
    "The original binomial model assumes a constant volatility over the entire time horizon. However, in reality, volatility can change over time. Extensions of the binomial model incorporate time-varying volatility by adjusting the probabilities of up and down movements at each time step based on observed volatility levels or other relevant factors.\n",
    "\n",
    "**Continuous-time models** \n",
    "\n",
    "The binomial model is a discrete-time model, where time is divided into discrete intervals. Continuous-time models, such as the Black-Scholes model, are a variation of the binomial model that assume price movements occur continuously over time, allowing for more precise modeling of the underlying asset's behavior.\n",
    "\n",
    "**Jump-diffusion models** \n",
    "\n",
    "The binomial model assumes that price movements follow a simple random walk. Jump-diffusion models introduce the possibility of sudden large price jumps in addition to the continuous diffusion process. This is particularly relevant when modeling assets with occasional extreme events or when there are significant news announcements.\n"
   ]
  },
  {
   "cell_type": "markdown",
   "id": "dc24430b",
   "metadata": {},
   "source": [
    "#### Adjustments for dividends, interest rates, and volatility. <a id=c7point2><a/>"
   ]
  },
  {
   "cell_type": "markdown",
   "id": "a76e701b",
   "metadata": {},
   "source": [
    "When using the binomial model or its extensions to price financial instruments, such as options, there are several adjustments that can be made to incorporate dividends, interest rates, and volatility. Here are some common adjustments:\n",
    "\n",
    "**Dividend adjustment** \n",
    "\n",
    "Dividends are periodic payments made by a company to its shareholders. When valuing options on stocks that pay dividends, it is important to adjust the stock price in the binomial model to account for the expected dividend payments. One approach is to subtract the present value of the expected dividends from the stock price in the up and down states. This adjustment ensures that the model accurately reflects the impact of dividends on the underlying stock's price movement.\n",
    "\n",
    "**Interest rate adjustment** \n",
    "\n",
    "Interest rates play a crucial role in option pricing. They affect the present value of future cash flows and can impact the decision to exercise an option early. In the binomial model, interest rates are typically incorporated by discounting future cash flows back to the present value. The risk-free interest rate is used to determine the discount factor applied at each time step. Higher interest rates generally decrease the present value of future cash flows and can result in lower option prices.\n",
    "\n",
    "**Volatility adjustment** \n",
    "\n",
    "Volatility is a measure of the price fluctuations of the underlying asset. In the binomial model, volatility is usually assumed to be constant over the life of the option. However, in reality, volatility can change over time. One approach to incorporate time-varying volatility is to adjust the probability parameters in the binomial tree model to reflect changes in volatility at each time step. This adjustment allows the model to capture the impact of changing volatility on the option's price.\n",
    "\n",
    "**Implied volatility calibration** \n",
    "\n",
    "Implied volatility is the volatility parameter that, when plugged into an option pricing model, produces a theoretical price that matches the market price of the option. Traders and analysts often use implied volatility as a measure of market expectations for future volatility. When using the binomial model, the implied volatility can be calibrated by solving for the volatility parameter that produces the closest match between the model's calculated option prices and the observed market prices. This adjustment helps align the model with the market's implied volatility expectations.\n",
    "\n",
    "These adjustments are important to consider when using the binomial model or its variations to price options or other financial derivatives. By incorporating dividends, interest rates, and volatility adjustments, the model can provide more accurate pricing estimates that reflect real-world market conditions."
   ]
  },
  {
   "cell_type": "markdown",
   "id": "2e180a7f",
   "metadata": {},
   "source": [
    "#### Concept of multi-period binomial models. <a id=c7point3><a/>"
   ]
  },
  {
   "cell_type": "markdown",
   "id": "500516c9",
   "metadata": {},
   "source": [
    "Multi-period binomial models extend the basic binomial model to analyze financial instruments over multiple time periods.Time is divided into discrete intervals or time steps, determining the level of granularity in the model.The price of the underlying asset can move up or down at each time step based on specified probabilities.The model is represented as a tree structure, expanding as additional time steps are added.Multi-period binomial models are commonly used to value options and other derivatives.Option values are calculated at each node by traversing the tree from the final time step back to the initial time step.Continuous compounding may be used to calculate risk-neutral probabilities and factors for more precise modeling.These models capture the dynamics of price movements and option valuations over time.They provide more detailed insights into the behavior of options and derivatives.Multi-period binomial models are valuable tools for pricing and risk management in finance."
   ]
  },
  {
   "cell_type": "markdown",
   "id": "f97f76af",
   "metadata": {},
   "source": [
    "### 8.Practical Applications. <a id=chapter8><a/>"
   ]
  },
  {
   "cell_type": "code",
   "execution_count": 13,
   "id": "4fc0d784",
   "metadata": {},
   "outputs": [
    {
     "name": "stdout",
     "output_type": "stream",
     "text": [
      "<function OptionInitialInfo._GetOptionData_ at 0x0000026D6E0EB670>\n"
     ]
    }
   ],
   "source": [
    "#We shall implement a few popular binomial tree models, namely: \n",
    "#Cox, Ross, Rubinstein (CRR) 1979, Jarrow, Rudd (JR) 1983, and Leisen, Reimer (LR) 1996. \n",
    "\n",
    "#First step is the class that will be used to initialize the input.\n",
    "\n",
    "class OptionInitialInfo:\n",
    "    def __init__(self):\n",
    "        self._GetOptionData_()\n",
    "    \n",
    "    def _GetOptionData_(self):\n",
    "        self.S0 = 0\n",
    "        self.K = 0\n",
    "        self.r = 0\n",
    "        self.div = 0\n",
    "        self.T = 0\n",
    "        self.sigma = 0\n",
    "        self.n = 1\n",
    "        self.IsCall = 0\n",
    "        self.IsEuropean = 0\n",
    "        \n",
    "\n",
    "class BinomialOption(OptionInitialInfo):\n",
    "    def _InitParams_(self):\n",
    "        self.dt = 0.0\n",
    "        self.u = 0.0\n",
    "        self.d = 0.0\n",
    "        self.pu = 0.0\n",
    "        self.pd = 0.0\n",
    "    \n",
    "    #CRR - model\n",
    "    \n",
    "    def _OptionPriceModelCRR(self):\n",
    "        self._InitParams_()\n",
    "        "
   ]
  },
  {
   "cell_type": "code",
   "execution_count": 6,
   "id": "287a6bb7",
   "metadata": {},
   "outputs": [
    {
     "name": "stdout",
     "output_type": "stream",
     "text": [
      "Calculating example option price:\n",
      "[[  2.4576   5.5296  12.288   26.88    57.6    120.    ]\n",
      " [  0.       0.6144   1.536    3.84     9.6     24.    ]\n",
      " [  0.       0.       0.       0.       0.       0.    ]\n",
      " [  0.       0.       0.       0.       0.       0.    ]\n",
      " [  0.       0.       0.       0.       0.       0.    ]\n",
      " [  0.       0.       0.       0.       0.       0.    ]]\n"
     ]
    }
   ],
   "source": [
    "def binomial_model(N, S0, u, r, K):\n",
    "    \"\"\"\n",
    "    N = number of binomial iterations\n",
    "    S0 = initial stock price\n",
    "    u = factor change of upstate\n",
    "    r = risk free interest rate per annum\n",
    "    K = strike price\n",
    "    \"\"\"\n",
    "    d = 1 / u\n",
    "    p = (1 + r - d) / (u - d)\n",
    "    q = 1 - p\n",
    "\n",
    "    # make stock price tree\n",
    "    stock = np.zeros([N + 1, N + 1])\n",
    "    for i in range(N + 1):\n",
    "        for j in range(i + 1):\n",
    "            stock[j, i] = S0 * (u ** (i - j)) * (d ** j)\n",
    "\n",
    "    # Generate option prices recursively\n",
    "    option = np.zeros([N + 1, N + 1])\n",
    "    option[:, N] = np.maximum(np.zeros(N + 1), (stock[:, N] - K))\n",
    "    for i in range(N - 1, -1, -1):\n",
    "        for j in range(0, i + 1):\n",
    "            option[j, i] = (\n",
    "                1 / (1 + r) * (p * option[j, i + 1] + q * option[j + 1, i + 1])\n",
    "            )\n",
    "    return option\n",
    "\n",
    "\n",
    "if __name__ == \"__main__\":\n",
    "    print(\"Calculating example option price:\")\n",
    "    op_price = binomial_model(5, 4, 2, 0.25, 8)\n",
    "    print(op_price)"
   ]
  },
  {
   "cell_type": "code",
   "execution_count": 22,
   "id": "6959bead",
   "metadata": {},
   "outputs": [],
   "source": []
  },
  {
   "cell_type": "code",
   "execution_count": 9,
   "id": "34081eb8",
   "metadata": {},
   "outputs": [],
   "source": []
  }
 ],
 "metadata": {
  "kernelspec": {
   "display_name": "Python 3 (ipykernel)",
   "language": "python",
   "name": "python3"
  },
  "language_info": {
   "codemirror_mode": {
    "name": "ipython",
    "version": 3
   },
   "file_extension": ".py",
   "mimetype": "text/x-python",
   "name": "python",
   "nbconvert_exporter": "python",
   "pygments_lexer": "ipython3",
   "version": "3.9.13"
  }
 },
 "nbformat": 4,
 "nbformat_minor": 5
}
