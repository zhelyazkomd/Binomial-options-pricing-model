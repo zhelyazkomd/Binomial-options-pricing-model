{
 "cells": [
  {
   "cell_type": "markdown",
   "id": "eae7a3e8",
   "metadata": {},
   "source": [
    "##### *Libraries used in this notebook*"
   ]
  },
  {
   "cell_type": "code",
   "execution_count": 1,
   "id": "de5a8abb",
   "metadata": {},
   "outputs": [],
   "source": [
    "%matplotlib inline\n",
    "import matplotlib.pyplot as plt\n",
    "import numpy as np"
   ]
  },
  {
   "cell_type": "markdown",
   "id": "fefaa3c3",
   "metadata": {},
   "source": [
    "# Binomial options pricing model"
   ]
  },
  {
   "cell_type": "markdown",
   "id": "53508e5d",
   "metadata": {},
   "source": [
    "### Contest\n",
    "\n",
    "[1. Introduction](#chapter1)\n",
    "\n",
    "   * [Introduce the concept of option pricing.](#c1point1)\n",
    "   * [What is the need for models like the binomial option pricing model.](#c1point2)\n",
    "   * [Overview of the Binomial Option Pricing Model.](#c1point3)\n",
    "    \n",
    "[2. Understanding Options](#chapter2)\n",
    "\n",
    "   * [What are the options and their main features.](#c2point1)\n",
    "   * [Difference between call and put options.](#c2point2)\n",
    "   * [Important terms such as strike price, expiration date, and underlying asset.](#c2point3)\n",
    "    \n",
    "3. The Binomial Model Approach\n",
    "    * Basic principles behind the binomial model approach.\n",
    "    * How the model assumes that the underlying asset price can move up or down over discrete time intervals.\n",
    "    * Construction of a binomial tree to represent possible price movements.\n",
    "\n",
    "4. Model Assumptions\n",
    "    * Assumptions of the BOPM. \n",
    "    * What is meaning of no arbitrage, risk-neutral probabilities and absence of transaction cost and taxes. \n",
    "    * How these assumptions impact the accuracy and applicability of the model. \n",
    "    \n",
    "5. Calculating Option Prices\n",
    "    * Steps involved in calculating option prices using the binomial model.\n",
    "    * Concept of risk-neutral probabilities and their role in pricing options.\n",
    "    * Calculation of option prices at each node of the binomial tree.\n",
    "\n",
    "6. Hedging Strategies:\n",
    "    * Concept of delta, gamma, and theta as measures of risk and sensitivity in options.\n",
    "    * How the binomial model can be used to determine hedging strategies.\n",
    "    * Calculation and interpretation of hedge ratios and portfolio adjustments.\n",
    "\n",
    "7. Extensions and Variations:\n",
    "    * Extensions and variations of the binomial model.\n",
    "    * Adjustments for dividends, interest rates, and volatility.\n",
    "    * Concept of multi-period binomial models.\n",
    "\n",
    "\n",
    "8. Comparison with Other Models.\n",
    "\n",
    "9. Practical Applications.\n",
    "\n",
    "10. Conclusion.\n"
   ]
  },
  {
   "cell_type": "markdown",
   "id": "4903697e",
   "metadata": {},
   "source": [
    "### 1. Introduction <a id=chapter1><a/>"
   ]
  },
  {
   "cell_type": "markdown",
   "id": "79724577",
   "metadata": {},
   "source": [
    "#### Introduce the concept of option pricing. <a id=c1point1><a/>"
   ]
  },
  {
   "cell_type": "markdown",
   "id": "50eec106",
   "metadata": {},
   "source": [
    "Option pricing theory estimates a value of an options contract by assigning a price, known as a premium, based on the calculated probability that the contract will finish *in the money (ITM)* at expiration. Essentially, option pricing theory provides an evaluation of an option's fair value, which traders incorporate into their strategies.\n",
    "\n",
    "Models used to price options account for variables such as current market price, strike price, volatility, interest rate, and time to expiration to theoretically value an option. Some commonly used models to value options are Black-Scholes, binomial option pricing, and Monte-Carlo simulation.\n",
    "\n",
    "The longer that an investor has to exercise the option, the greater the likelihood that it will be ITM and profitable at expiration. This means, all else equal, longer-dated options are more valuable. Similarly, the more volatile the underlying asset, the greater the odds that it will expire ITM. Higher interest rates, too, should translate into higher option prices."
   ]
  },
  {
   "cell_type": "markdown",
   "id": "8367494a",
   "metadata": {},
   "source": [
    "#### What is the need for models like the binomial option pricing model. <a id=c1point2><a/>"
   ]
  },
  {
   "cell_type": "markdown",
   "id": "4537b1bd",
   "metadata": {},
   "source": [
    "There are several main reasons for the need for models that calculate the option pricing model:\n",
    "\n",
    "**Valuation of options:** Options are financial derivatives whose value depends on the price movements of an underlying asset. Option pricing models enable market participants to determine the fair value of options, allowing them to make informed investment decisions. These models take into account factors such as the current price of the underlying asset, the strike price, time to expiration, volatility, and interest rates to calculate the option's value.\n",
    "\n",
    "These are the basic models for the option pricing model:\n",
    "\n",
    "   <img src=\"img/option_pricing_models.jpg\" width=\"400\"/>\n",
    "\n",
    "\n",
    "**Risk management:** Option pricing models play a crucial role in managing risk for individuals and financial institutions. By accurately valuing options, traders and investors can assess the potential risks associated with their portfolios. This information helps them hedge their positions or adjust their strategies accordingly, minimizing potential losses and maximizing returns.\n",
    "\n",
    "These are the model of risk management:\n",
    "\n",
    "   <img src=\"img/risk_management.jpg\" width=\"300\"/>\n",
    "\n",
    "\n",
    "\n",
    "**Market efficiency:** Option pricing models contribute to the efficiency of financial markets. When options are accurately priced, it reduces the likelihood of mispriced assets and arbitrage opportunities. This encourages fair pricing and promotes a more transparent and efficient marketplace.\n",
    "\n",
    "**Derivative pricing and trading:** Options are a type of derivative, which means their value is derived from an underlying asset. Option pricing models provide a foundation for pricing and trading other derivative instruments, such as futures, swaps, and forward contracts. These models help market participants assess the value of these instruments and make informed trading decisions.\n",
    "\n",
    "**Academic research and financial analysis:** Option pricing models serve as a basis for academic research in finance and play a significant role in financial analysis. These models provide insights into market behavior, option pricing anomalies, and the relationship between various market factors. They form the basis for developing and testing trading strategies and evaluating the impact of different variables on option prices."
   ]
  },
  {
   "cell_type": "markdown",
   "id": "cae0a7d9",
   "metadata": {},
   "source": [
    "#### Overview of the Binomial Option Pricing Model. <a id=c1point3><a/>"
   ]
  },
  {
   "cell_type": "markdown",
   "id": "2566817e",
   "metadata": {},
   "source": [
    "##### What Is Binomial Option Pricing Model?\n",
    "The binomial option pricing model is employed to calculate the value of an option using an iterative binomial framework. It is based on the presumption that the underlying asset’s value follows a path of evolution. Hence it either increases or decreases by a fixed percentage during each period.\n",
    "\n",
    "The binomial pricing model was first proposed by mathematicians Cox, Ross, and Rubinstein in 1979. The model provides a simple way to portray stock price movements and the interest rate term structure. The binomial model displays the underlying stock price movements using a discrete-time binomial lattice (tree) framework. One can identify it just by the probability of an upward rise and the size of the moves in the upward and downward phases of the options.\n",
    "\n",
    "An option is a significant financial derivative that provides the holder with the right to trade a defined quantity of the underlying asset at an agreed amount on the maturity date for a ***European option*** or at any time on or before the maturity date for an ***American option***.\n",
    "\n",
    "<p style=text-align:center><b>Binomial Tree Scheme</b></p>\n",
    "<img src=\"img/BOPM_scheme.jpg\" width=\"450\"/>\n",
    "\n",
    "The binomial lattice option pricing model is a simple approach to calculating possible option prices. The model works on the key assumption that only two possible results exist for a particular stock. The two possible outcomes are a high and a low price. So the possibilities are also an assumption that the prices could go up or down. Therefore, investors need to assume the occurrence of the two stock prices at the end of the provided period. As always, one cannot predict this price with certainty, and it carries risks like all investments.\n",
    "\n",
    "It also works with the assumption of no arbitrage. i.e., there is no buying while selling at a higher price. No-arbitrage guarantees that the asset's value doesn't change. According to the no-arbitrage assumption, all risk-free investments generate a risk-free rate of return, and no investment possibilities demand zero money and generate positive returns.\n",
    "\n",
    "The practices ensure that the prices of financial assets, such as options, are fixed to a minimal tolerance from their theoretical values. One-period time model or one-period binomial option pricing model and multi-period binomial option pricing model or two-step binomial option pricing model are the types of binomial models used to determine option prices, and assumptions apply to them too."
   ]
  },
  {
   "cell_type": "markdown",
   "id": "24a2ec54",
   "metadata": {},
   "source": [
    "### 2.\tUnderstanding Options <a id=chapter2><a/>"
   ]
  },
  {
   "cell_type": "markdown",
   "id": "357dffd7",
   "metadata": {},
   "source": [
    "#### What are the options and their main features? <a id=c2point1><a/>"
   ]
  },
  {
   "cell_type": "markdown",
   "id": "91f5e469",
   "metadata": {},
   "source": [
    "An options contract is an agreement between two parties to facilitate a potential transaction on an underlying security at a preset price, referred to as the strike price, prior to or on the expiration date. Options are financial instruments that are based on the value of underlying securities such as stocks. An options contract offers the buyer the opportunity to buy or sell—depending on the type of contract they hold—the chosen underlying asset at a price set out in the contract either within a certain timeframe or at the expiration date.\n",
    "\n",
    "There are two major types of options: calls and puts.\n",
    "\n",
    "   * Call is an option contract that gives you the right, but not the obligation, to buy the underlying asset at a predetermined price before or at expiration day.\n",
    "   * Put is an option contract that gives you the right, but not the obligation, to sell the underlying asset at a predetermined price before or at expiration day.\n",
    "    \n",
    "<img src=\"img/type_of_option.jpg\" width=\"500\" />\n",
    "\n",
    "Options may also be classified according to their exercise time:\n",
    "\n",
    "   * European style options may be exercised only at the expiration date.\n",
    "   * American style options can be exercised anytime between purchase and expiration date.\n",
    "   \n",
    "\n",
    "Few **KEY TAKEAWAYS** about Option:\n",
    "  > * An options contract is an agreement between two parties to facilitate a potential transaction involving an asset at a preset price and date.\n",
    "  > * There are two types of options contract: puts and calls.\n",
    "  > * Buying an option offers the right, but not the obligation, to purchase or sell the underlying asset."
   ]
  },
  {
   "cell_type": "markdown",
   "id": "33fae0a9",
   "metadata": {},
   "source": [
    "#### Difference between call and put options. <a id=c2point2><a/>"
   ]
  },
  {
   "cell_type": "markdown",
   "id": "7b6de07d",
   "metadata": {},
   "source": [
    "The difference between a call option and a put option is simple. An investor who buys a call seeks to make a profit when the price of a stock increases. The investor hopes the security price will rise so they can purchase the stock at a discounted rate. The writer, on the other hand, hopes the stock price will drop or at least stay the same so they won’t have to exercise the option.\n",
    "\n",
    "With a put option, the investor profits when the stock price falls. In this case, the put increases as the stock decreases in value. So, while the investor hopes the stock price dips, the writer hopes it increases or stays the same, so they don’t have to exercise the trade.\n",
    "\n",
    "When buying a call option, the buyer must pay a premium to the seller or writer. But the investor doesn’t have to pay the market margin money before the purchase. However, when selling a put option, the seller must deposit margin money with the market. This then provides the advantage to keep the premium sum on the put option.\n",
    "\n",
    "In regards to profitability, call options have unlimited gain potential because the price of a stock cannot be capped. Conversely, put options are limited in their potential gains because the price of a stock cannot drop below zero.\n",
    "\n",
    "\n",
    "<img src=\"img/Call_and_Put.jpg\" width=\"500\" />\n",
    "    "
   ]
  },
  {
   "cell_type": "markdown",
   "id": "b9143af6",
   "metadata": {},
   "source": [
    "#### Important terms such as strike price, expiration date, and underlying asset. <a id=c2point3><a/>"
   ]
  },
  {
   "cell_type": "markdown",
   "id": "62be4edf",
   "metadata": {},
   "source": [
    "Let's first look at what the strike price is.\n",
    "\n",
    "#### Strike price\n",
    "Exercise price or Strike Price refers to the price at which the underlying stock is purchased or sold by the persons trading in the options of calls & puts available in the derivative trading. The exercise price, also known as the strike price, is a term used in the derivative market. The exercise price is always fixed, unlike the market price, and is defined differently for all available options.\n",
    "\n",
    "\n",
    ">**KEY TAKEAWAYS**\n",
    "> * The strike price on an options contract is the price at which the underlying security can be either bought or sold once exercised.\n",
    "> * Also known as the exercise price, the strike price is a key feature of an options contract.\n",
    "> * In-the-money (ITM) options have intrinsic value since their strike prices are lower than the market price for a call, or higher than the market price for a put.\n",
    "> * At-the-money (ATM) options have a strike price that is equal to the current market price of the underlying.\n",
    "\n",
    "#### Expiration date\n",
    "\n",
    "An expiration date in derivatives is the last day that derivative contracts, such as options or futures, are valid. On or before this day, investors will have already decided what to do with their expiring position.\n",
    "\n",
    "Before an option expires, its owners can choose to exercise the option, close the position to realize their profit or loss, or let the contract expire worthless.\n",
    "\n",
    ">**KEY TAKEAWAYS**\n",
    "> * Expiration date for derivatives is the final date on which the derivative is valid. After that time, the contract has expired.\n",
    "> * Depending on the type of derivative, the expiration date can result in different outcomes.\n",
    "> * Option owners can choose to exercise the option (and realize profits or losses) or let it expire worthless.\n",
    "> * Futures contract owners can choose to roll over the contract to a future date or close their position and take delivery of the asset or commodity.\n",
    "\n",
    "#### Underlying asset\n",
    "\n",
    "The underlying asset is defined as the asset on which the financial instruments, such as derivatives, are based, and the underlying asset’s value is indirectly or directly related to the contracts of the derivatives. They are always traded on the cash markets, whereas the derivatives derived from them are traded on the derivative segment or the future markets."
   ]
  }
 ],
 "metadata": {
  "kernelspec": {
   "display_name": "Python 3 (ipykernel)",
   "language": "python",
   "name": "python3"
  },
  "language_info": {
   "codemirror_mode": {
    "name": "ipython",
    "version": 3
   },
   "file_extension": ".py",
   "mimetype": "text/x-python",
   "name": "python",
   "nbconvert_exporter": "python",
   "pygments_lexer": "ipython3",
   "version": "3.9.13"
  }
 },
 "nbformat": 4,
 "nbformat_minor": 5
}
